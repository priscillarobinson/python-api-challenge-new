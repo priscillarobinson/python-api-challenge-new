{
 "cells": [
  {
   "cell_type": "markdown",
   "metadata": {},
   "source": [
    "# VacationPy\n",
    "----\n",
    "\n",
    "#### Note\n",
    "* Keep an eye on your API usage. Use https://developers.google.com/maps/reporting/gmp-reporting as reference for how to monitor your usage and billing.\n",
    "\n",
    "* Instructions have been included for each segment. You do not have to follow them exactly, but they are included to help you think through the steps."
   ]
  },
  {
   "cell_type": "code",
   "execution_count": 1,
   "metadata": {},
   "outputs": [
    {
     "ename": "ModuleNotFoundError",
     "evalue": "No module named 'api_keys'",
     "output_type": "error",
     "traceback": [
      "\u001b[1;31m---------------------------------------------------------------------------\u001b[0m",
      "\u001b[1;31mModuleNotFoundError\u001b[0m                       Traceback (most recent call last)",
      "\u001b[1;32m<ipython-input-1-24253778fba5>\u001b[0m in \u001b[0;36m<module>\u001b[1;34m\u001b[0m\n\u001b[0;32m     10\u001b[0m \u001b[1;33m\u001b[0m\u001b[0m\n\u001b[0;32m     11\u001b[0m \u001b[1;31m# Import API key\u001b[0m\u001b[1;33m\u001b[0m\u001b[1;33m\u001b[0m\u001b[1;33m\u001b[0m\u001b[0m\n\u001b[1;32m---> 12\u001b[1;33m \u001b[1;32mfrom\u001b[0m \u001b[0mapi_keys\u001b[0m \u001b[1;32mimport\u001b[0m \u001b[0mg_key\u001b[0m\u001b[1;33m\u001b[0m\u001b[1;33m\u001b[0m\u001b[0m\n\u001b[0m",
      "\u001b[1;31mModuleNotFoundError\u001b[0m: No module named 'api_keys'"
     ]
    }
   ],
   "source": [
    "# Dependencies and Setup\n",
    "import matplotlib.pyplot as plt\n",
    "import pandas as pd\n",
    "import numpy as np\n",
    "import requests\n",
    "import gmaps\n",
    "import os\n",
    "import json\n",
    "import pprint\n",
    "\n",
    "# Import API key\n",
    "from api_keys import g_key"
   ]
  },
  {
   "cell_type": "markdown",
   "metadata": {},
   "source": [
    "### Store Part I results into DataFrame\n",
    "* Load the csv exported in Part I to a DataFrame"
   ]
  },
  {
   "cell_type": "code",
   "execution_count": null,
   "metadata": {},
   "outputs": [],
   "source": [
    "# create a reference to the csv file\n",
    "cities_csv = \"output_data/cities.csv\"\n",
    "# read the csv file into a dataframe\n",
    "cities_df = pd.read_csv(cities_csv)\n",
    "cities_df = cities_df.dropna()\n",
    "del cities_df[\"Unnamed: 0\"]\n",
    "cities_df.head()\n",
    "cities_df.count()"
   ]
  },
  {
   "cell_type": "markdown",
   "metadata": {},
   "source": [
    "### Humidity Heatmap\n",
    "* Configure gmaps.\n",
    "* Use the Lat and Lng as locations and Humidity as the weight.\n",
    "* Add Heatmap layer to map."
   ]
  },
  {
   "cell_type": "code",
   "execution_count": null,
   "metadata": {},
   "outputs": [],
   "source": [
    "# Configure gmaps with API key\n",
    "gmaps.configure(api_key=g_key)\n",
    "\n",
    "# Store 'Lat' and 'Lng' as locations\n",
    "locations = cities_df[[\"Lat\", \"Lng\"]].astype(float)\n",
    "humidity = cities_df[\"Humidity\"].astype(float)\n",
    "\n"
   ]
  },
  {
   "cell_type": "code",
   "execution_count": null,
   "metadata": {},
   "outputs": [],
   "source": [
    "# Add heatmap layer to map\n",
    "fig = gmaps.figure(center=(50.0, -35.0), zoom_level=2)\n",
    "heat_layer = gmaps.heatmap_layer(locations, weights=humidity, dissipating=False, max_intensity=300, point_radius = 5)\n",
    "\n",
    "fig.add_layer(heat_layer)\n",
    "fig"
   ]
  },
  {
   "cell_type": "markdown",
   "metadata": {},
   "source": [
    "### Create new DataFrame fitting weather criteria\n",
    "* Narrow down the cities to fit weather conditions.\n",
    "* Drop any rows will null values."
   ]
  },
  {
   "cell_type": "code",
   "execution_count": null,
   "metadata": {},
   "outputs": [],
   "source": [
    "# Narrow down the DataFrame to find your ideal weather condition.\n",
    "# Drop any rows that don't contain all three conditions\n",
    "\n",
    "# A max temperature lower than 80 degrees but higher than 70.\n",
    "city_low_temp = cities_df[cities_df[\"Max Temp\"] > 70] \n",
    "city_max_temp = city_low_temp[city_low_temp[\"Max Temp\"] < 80]\n",
    "# Zero cloudiness\n",
    "city_cloudless = city_max_temp[city_max_temp[\"Cloudiness\"] == 0]\n",
    "# Wind speed less than 10 mph\n",
    "city_wind = city_cloudless[city_cloudless[\"Wind Speed\"] < 40]\n",
    "# Store into hotel variable name\n",
    "hotel_df = city_wind\n",
    "hotel_df"
   ]
  },
  {
   "cell_type": "markdown",
   "metadata": {},
   "source": [
    "### Hotel Map\n",
    "* Store into variable named `hotel_df`.\n",
    "* Add a \"Hotel Name\" column to the DataFrame.\n",
    "* Set parameters to search for hotels with 5000 meters.\n",
    "* Hit the Google Places API for each city's coordinates.\n",
    "* Store the first Hotel result into the DataFrame.\n",
    "* Plot markers on top of the heatmap."
   ]
  },
  {
   "cell_type": "code",
   "execution_count": null,
   "metadata": {},
   "outputs": [],
   "source": [
    "reduced_cities_df = cities_df.loc[(cities_df[\"Wind Speed\"] < 10) & (cities_df[\"Cloudiness\"] == 0) & \\\n",
    "                                   (cities_df[\"Max Temp\"] > 70) & (cities_df[\"Max Temp\"] < 80)].dropna()\n",
    "reduced_cities_df.count()"
   ]
  },
  {
   "cell_type": "code",
   "execution_count": null,
   "metadata": {},
   "outputs": [],
   "source": [
    "hotel_df = city_wind.loc[:,[\"City\", \"Country\", \"Lat\", \"Lng\"]]\n",
    "hotel_df"
   ]
  },
  {
   "cell_type": "code",
   "execution_count": null,
   "metadata": {},
   "outputs": [],
   "source": [
    "import json\n",
    "import pprint\n",
    "base_url = \"https://maps.googleapis.com/maps/api/place/nearbysearch/json\"\n",
    "params = {\"type\" : \"hotel\",\n",
    "          \"keyword\" : \"hotel\",\n",
    "          \"radius\" : 5000,\n",
    "          \"key\" : g_key}\n",
    "\n",
    "for index, row in hotel_df.iterrows():\n",
    "    lat = row[\"Lat\"]\n",
    "    lng = row[\"Lng\"]\n",
    "    city_name = row[\"City\"]\n",
    "    # add keyword to params dict\n",
    "    params[\"location\"] = f\"{lat},{lng}\"\n",
    "    # assemble url and make API request\n",
    "    print(f\"Retrieving Results for Index {index}: {city_name}.\")\n",
    "    response = requests.get(base_url, params=params).json()\n",
    "    pprint.pprint(response)\n",
    "    # extract results\n",
    "    results = response['results']\n",
    "    print(json.dumps(response, indent=4, sort_keys=True))\n",
    "    \n",
    "    # save the hotel name to dataframe\n",
    "    try:\n",
    "        print(f\"Closest hotel in {city_name} is {results[0]['name']}.\")\n",
    "        hotel_df.loc[index, \"Hotel Name\"] = results[0]['name']\n",
    "    # if there is no hotel available, show missing field\n",
    "    except (KeyError, IndexError):\n",
    "        print(\"No hotel\")\n",
    "    print(\"------------\")\n",
    "    "
   ]
  },
  {
   "cell_type": "code",
   "execution_count": null,
   "metadata": {},
   "outputs": [],
   "source": [
    "# Add \"Hotel Name\" column to DF\n",
    "hotel_df[\"Hotel Name\"] = \"\" \n",
    "hotel_name = []\n",
    "\n",
    "# Using Google Places API to find the first hotel for each city located within 5000 meters of your coordinates.\n",
    "base_url = \"https://maps.googleapis.com/maps/api/place/nearbysearch/json\"   \n",
    "    \n",
    "# Set parameters\n",
    "target_radius = 5000\n",
    "target_type = \"hotel\"\n",
    "params = {\n",
    "    \"key\": g_key,\n",
    "    \"radius\": target_radius,\n",
    "    \"type\": target_type\n",
    "    }\n",
    "\n",
    "    # Loop through the hotel_df and get the Lat/Lng for each city\n",
    "for index, row in hotel_df.iterrows():\n",
    "    # get coordinates\n",
    "    lat = row[\"Lat\"]\n",
    "    lng = row[\"Lng\"]\n",
    "    city_name = row[\"City\"]\n",
    "    params[\"location\"] = f\"{lat},{lng}\"\n",
    "    print(f\"Retrieving Results for Index {index}: {city_name}.\")\n",
    "    response = requests.get(base_url, params=params).json()\n",
    "    # print response\n",
    "    results = response['results']\n",
    "    pprint.pprint(response)\n",
    "    \n",
    "    # save the hotel name to dataFrame\n",
    "    hotel_df.loc[index, \"Hotel Name\"] = results[0]['name']\n",
    "   \n",
    "    \n",
    "    \n",
    "# Plot the hotels on top of the humidity heatmap with each pin containing the **Hotel Name**, **City**, and **Country**\n",
    "\n"
   ]
  },
  {
   "cell_type": "code",
   "execution_count": null,
   "metadata": {},
   "outputs": [],
   "source": [
    "hotel_df"
   ]
  },
  {
   "cell_type": "code",
   "execution_count": null,
   "metadata": {},
   "outputs": [],
   "source": [
    "# NOTE: Do not change any of the code in this cell\n",
    "\n",
    "# Using the template add the hotel marks to the heatmap\n",
    "info_box_template = \"\"\"\n",
    "<dl>\n",
    "<dt>Name</dt><dd>{Hotel Name}</dd>\n",
    "<dt>City</dt><dd>{City}</dd>\n",
    "<dt>Country</dt><dd>{Country}</dd>\n",
    "</dl>\n",
    "\"\"\"\n",
    "# Store the DataFrame Row\n",
    "# NOTE: be sure to update with your DataFrame name\n",
    "hotel_info = [info_box_template.format(**row) for index, row in hotel_df.iterrows()]\n",
    "locations = hotel_df[[\"Lat\", \"Lng\"]]"
   ]
  },
  {
   "cell_type": "code",
   "execution_count": null,
   "metadata": {},
   "outputs": [],
   "source": [
    "# Add marker layer ontop of heat map\n",
    "marker = gmaps.marker_layer(locations, info_box_content=hotel_info)\n",
    "fig.add_layer(marker)\n",
    "# Display figure\n",
    "fig"
   ]
  },
  {
   "cell_type": "code",
   "execution_count": null,
   "metadata": {},
   "outputs": [],
   "source": []
  }
 ],
 "metadata": {
  "kernelspec": {
   "display_name": "Python 3",
   "language": "python",
   "name": "python3"
  },
  "language_info": {
   "codemirror_mode": {
    "name": "ipython",
    "version": 3
   },
   "file_extension": ".py",
   "mimetype": "text/x-python",
   "name": "python",
   "nbconvert_exporter": "python",
   "pygments_lexer": "ipython3",
   "version": "3.8.8"
  },
  "latex_envs": {
   "LaTeX_envs_menu_present": true,
   "autoclose": false,
   "autocomplete": true,
   "bibliofile": "biblio.bib",
   "cite_by": "apalike",
   "current_citInitial": 1,
   "eqLabelWithNumbers": true,
   "eqNumInitial": 1,
   "hotkeys": {
    "equation": "Ctrl-E",
    "itemize": "Ctrl-I"
   },
   "labels_anchors": false,
   "latex_user_defs": false,
   "report_style_numbering": false,
   "user_envs_cfg": false
  }
 },
 "nbformat": 4,
 "nbformat_minor": 4
}
